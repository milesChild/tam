{
 "cells": [
  {
   "attachments": {},
   "cell_type": "markdown",
   "metadata": {},
   "source": [
    "# Connecting to DB in RDS Guide"
   ]
  },
  {
   "cell_type": "markdown",
   "metadata": {},
   "source": [
    "#### Starting DB and importing necessary packages\n",
    "\n",
    "Once you have created your database in RDS, make sure that it is configured to be publicly accessible and that you've attached a security group that allows inbound/outbound access from 'All Traffic' on both IPv4 and IPv6. Save the login credentials of the DB as soon as you launch the instance.\n",
    "\n",
    "Next, navigate to your local python environment and install the pymysql package. This process can be very messy if done incorrectly the first time, so make sure you do the following:\n",
    "\n",
    "For Python 2.x:\n",
    "- sudo pip install pymysql.\n",
    "\n",
    "For Python 3.x:\n",
    "- sudo pip3 install pymysql.\n",
    "\n",
    "For either running on Anaconda:\n",
    "- sudo conda install pymysql.\n",
    "\n",
    "If that didn't work try APT:\n",
    "- sudo apt-get install pymysql.\n",
    "\n",
    "credit: https://stackoverflow.com/a/49354387/20355075\n",
    "\n",
    "Finally, 'import pymysql' in your project before continuing."
   ]
  },
  {
   "cell_type": "code",
   "execution_count": 8,
   "metadata": {},
   "outputs": [],
   "source": [
    "# Always expose credentials in plain text on public repos\n",
    "RDS_HOSTNAME=\"\"\n",
    "RDS_USER=\"\"\n",
    "RDS_PASSWORD=\"\"\n",
    "DB_NAME=\"\""
   ]
  },
  {
   "cell_type": "code",
   "execution_count": 9,
   "metadata": {},
   "outputs": [],
   "source": [
    "# imports\n",
    "import pymysql"
   ]
  },
  {
   "cell_type": "markdown",
   "metadata": {},
   "source": [
    "Now, establish a connection to the db by using pymysql.connect(host=<'someurl.rds.amazonaws.com'>, user=<'username'>, password=<'password'>).\n",
    "\n",
    "Create a cursor, which can essentially be regarded as an object that executes your queries (written locally) on the DB, stores the result in-memory, and returns it back to this project. Check that the connection and cursor have been made properly by checking the version of the db."
   ]
  },
  {
   "cell_type": "code",
   "execution_count": 10,
   "metadata": {},
   "outputs": [
    {
     "data": {
      "text/plain": [
       "1"
      ]
     },
     "execution_count": 10,
     "metadata": {},
     "output_type": "execute_result"
    }
   ],
   "source": [
    "connection = pymysql.connect(host=RDS_HOSTNAME, user=RDS_USER, password=RDS_PASSWORD,\n",
    " database=DB_NAME, # <-- Optional: The name of the database to connect to. Can be left blank and changed later.\n",
    "  autocommit=True # <-- Optional: If set to True, the connection will autocommit after every query. This is useful for queries that don't modify the database.\n",
    "  )\n",
    "cursor = connection.cursor()\n",
    "cursor.execute('select version()')"
   ]
  }
 ],
 "metadata": {
  "kernelspec": {
   "display_name": "Python 3.9.12 ('base')",
   "language": "python",
   "name": "python3"
  },
  "language_info": {
   "codemirror_mode": {
    "name": "ipython",
    "version": 3
   },
   "file_extension": ".py",
   "mimetype": "text/x-python",
   "name": "python",
   "nbconvert_exporter": "python",
   "pygments_lexer": "ipython3",
   "version": "3.9.12"
  },
  "orig_nbformat": 4,
  "vscode": {
   "interpreter": {
    "hash": "6878569262a6e222d2bf9767f8c76a5e9f33c66f4b81d8aa952494e1f3a0e918"
   }
  }
 },
 "nbformat": 4,
 "nbformat_minor": 2
}
